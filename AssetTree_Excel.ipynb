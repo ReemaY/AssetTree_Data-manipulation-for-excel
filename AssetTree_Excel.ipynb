{
 "cells": [
  {
   "cell_type": "code",
   "execution_count": null,
   "metadata": {},
   "outputs": [],
   "source": [
    "# Importing Libraries\n",
    "import numpy as np\n",
    "import pandas as pd\n",
    "import matplotlib.pyplot as plt\n",
    "import openpyxl"
   ]
  },
  {
   "cell_type": "code",
   "execution_count": null,
   "metadata": {},
   "outputs": [],
   "source": [
    "xls = pd.ExcelFile('C://Users/yare01/Documents/SMS/SSAB/Python/06.04.2021_SSAB_Data_Dictionary_AT_PX3_Regulation_Burners.xlsx')\n",
    "DataDict = pd.read_excel(xls,'Data_Dictionary')\n",
    "Hier = pd.read_excel(xls,'Hierarchy')\n",
    "Hier_Lev = pd.read_excel(xls,'Hierarchy_Levels')"
   ]
  },
  {
   "cell_type": "code",
   "execution_count": null,
   "metadata": {},
   "outputs": [],
   "source": [
    "DataDict.head()"
   ]
  },
  {
   "cell_type": "code",
   "execution_count": null,
   "metadata": {},
   "outputs": [],
   "source": []
  },
  {
   "cell_type": "code",
   "execution_count": null,
   "metadata": {},
   "outputs": [],
   "source": [
    "\n",
    "        \n",
    "    "
   ]
  },
  {
   "cell_type": "code",
   "execution_count": null,
   "metadata": {},
   "outputs": [],
   "source": [
    "def findCell(sh, searchedValue):\n",
    "    for row in Hier_Lev.iterrows():\n",
    "        for col in Hier_Lev.itertuples():\n",
    "            myCell = sh.cell(row, col)\n",
    "            if myCell.value == searchedValue:\n",
    "                return xl_rowcol_to_cell(row, col)\n",
    "    return -1"
   ]
  },
  {
   "cell_type": "code",
   "execution_count": null,
   "metadata": {},
   "outputs": [],
   "source": []
  },
  {
   "cell_type": "code",
   "execution_count": null,
   "metadata": {},
   "outputs": [],
   "source": []
  },
  {
   "cell_type": "code",
   "execution_count": null,
   "metadata": {},
   "outputs": [],
   "source": [
    "def Hierarchy_Tree():\n",
    "    searchValue ='IA-EAF1044030'\n",
    "    for i in DataDict['Asset_ID']:\n",
    "        for j in Hier_Lev:\n",
    "            print(findCell(i,searchValue)) \n",
    "                "
   ]
  },
  {
   "cell_type": "code",
   "execution_count": null,
   "metadata": {},
   "outputs": [],
   "source": [
    "for i in DataDict['Asset_ID']:\n",
    "    for row in Hier_Lev.iterrows():\n",
    "        for col in Hier_Lev.itertuples():\n",
    "            myCell = Hier_Lev.cell(row, col)\n",
    "            print(myCell)\n",
    "            if myCell.value == 'IA-EAF1044030':\n",
    "                print('-----------')\n",
    "                print('Found!')\n",
    "                print(xl_rowcol_to_cell(row,col))\n",
    "                quit()"
   ]
  },
  {
   "cell_type": "code",
   "execution_count": null,
   "metadata": {},
   "outputs": [],
   "source": [
    "xls = pd.ExcelFile('C://Users/yare01/Documents/SMS/SSAB/Python/06.04.2021_SSAB_Data_Dictionary_AT_PX3_Regulation_Burners.xlsx')\n",
    "Hier_Lev = pd.read_excel(xls,'Hierarchy Levels')\n",
    "for row in Hier_Lev.iterrows():\n",
    "    for col in Hier_Lev.itertuples():\n",
    "        cell = Hier_Lev.find(\"IA-EAF-1044030\")\n",
    "        print(\"Found something at R%sC%s\" % (cell.row, cell.col))"
   ]
  },
  {
   "cell_type": "code",
   "execution_count": null,
   "metadata": {},
   "outputs": [],
   "source": []
  },
  {
   "cell_type": "code",
   "execution_count": null,
   "metadata": {},
   "outputs": [],
   "source": [
    "from xlrd import open_workbook\n",
    "book = open_workbook('C://Users/yare01/Documents/SMS/SSAB/Python/06.04.2021_SSAB_Data_Dictionary_AT_PX3_Regulation_Burners1.xlsx')\n",
    "for sheet in book.sheets():\n",
    "    for rowidx in range(sheet.nrows):\n",
    "        row = sheet.row(rowidx)\n",
    "        for colidx, cell in enumerate(row):\n",
    "            if cell.value == \"IA-EAF-1044030\" :\n",
    "                print(sheet.name)\n",
    "                print(colidx)\n",
    "                print(rowidx)"
   ]
  },
  {
   "cell_type": "code",
   "execution_count": null,
   "metadata": {},
   "outputs": [],
   "source": [
    "from xlrd import open_workbook\n",
    "book = open_workbook('C://Users/yare01/Documents/SMS/SSAB/Python/06.04.2021_SSAB_Data_Dictionary_AT_PX3_Regulation_Burners.xlsx')\n",
    "for sheet in book.sheets():\n",
    "    for rowidx in range(sheet.nrows):\n",
    "        row = sheet.row(rowidx)\n",
    "        for colidx, cell in enumerate(row):\n",
    "            if cell.value == \"IA-EAF-1044030\" :\n",
    "                print(sheet.name)\n",
    "                print(colidx)\n",
    "                print(rowidx)"
   ]
  },
  {
   "cell_type": "code",
   "execution_count": null,
   "metadata": {},
   "outputs": [],
   "source": []
  },
  {
   "cell_type": "code",
   "execution_count": null,
   "metadata": {},
   "outputs": [],
   "source": [
    "xfile = openpyxl.load_workbook('C://Users/yare01/Documents/SMS/SSAB/Python/06.04.2021_SSAB_Data_Dictionary_AT_PX3_Regulation_Burners.xlsx')\n",
    "print(xfile.sheetnames)"
   ]
  },
  {
   "cell_type": "code",
   "execution_count": null,
   "metadata": {},
   "outputs": [],
   "source": [
    "currentsheet = xfile['Hierarchy']\n",
    "print(currentsheet['B1'].value)"
   ]
  },
  {
   "cell_type": "code",
   "execution_count": null,
   "metadata": {},
   "outputs": [],
   "source": [
    "xfile = openpyxl.load_workbook('C://Users/yare01/Documents/SMS/SSAB/Python/06.04.2021_SSAB_Data_Dictionary_AT_PX3_Regulation_Burners.xlsx')\n",
    "allSheetNames = xfile.sheetnames\n",
    "#xfile.cell(row=10,column=6)\n",
    "print(\"All sheet names {} \" .format(xfile.sheetnames))"
   ]
  },
  {
   "cell_type": "code",
   "execution_count": null,
   "metadata": {},
   "outputs": [],
   "source": [
    "# Read excel file\n",
    "xfile = openpyxl.load_workbook('C://Users/yare01/Documents/SMS/SSAB/Python/06.04.2021_SSAB_Data_Dictionary_AT_PX3_Regulation_Burners.xlsx')\n",
    "# read sheet names in excel file\n",
    "allSheetNames = xfile.sheetnames\n",
    "print(\"All sheet names {} \" .format(xfile.sheetnames))\n",
    "# to print B4 values from all the sheets in excel file\n",
    "for x in allSheetNames:\n",
    "    print(\"Current sheet name is {}\" .format(x))\n",
    "    currentSheet = xfile[x]\n",
    "    print(currentSheet['B4'].value)"
   ]
  },
  {
   "cell_type": "code",
   "execution_count": null,
   "metadata": {
    "scrolled": true
   },
   "outputs": [],
   "source": [
    "# Read excel file\n",
    "xfile = openpyxl.load_workbook('C://Users/yare01/Documents/SMS/SSAB/Python/06.04.2021_SSAB_Data_Dictionary_AT_PX3_Regulation_Burners.xlsx')\n",
    "# read sheet names in excel file\n",
    "allSheetNames = xfile.sheetnames\n",
    "print(\"All sheet names {} \" .format(xfile.sheetnames))\n",
    "\n",
    "for sheet in allSheetNames:\n",
    "    print(\"current sheet name is {}\" .format(sheet))\n",
    "    currentSheet = xfile[sheet]\n",
    "    for row in range(1,currentSheet.max_row +1):\n",
    "        for column in \"ABCDFGH\":\n",
    "            cell_name = \"{}{}\".format(column,row)\n",
    "            print(\"cell position is {} has value{}\".format(cell_name,currentSheet[cell_name].value))\n",
    "            "
   ]
  },
  {
   "cell_type": "code",
   "execution_count": null,
   "metadata": {},
   "outputs": [],
   "source": [
    "# Read excel file\n",
    "xfile = openpyxl.load_workbook('C://Users/yare01/Documents/SMS/SSAB/Python/06.04.2021_SSAB_Data_Dictionary_AT_PX3_Regulation_Burners.xlsx')\n",
    "# read sheet names in excel file\n",
    "allSheetNames = xfile.sheetnames\n",
    "print(\"All sheet names {} \" .format(xfile.sheetnames))\n",
    "\n",
    "def find_specific_cell():\n",
    "    for row in range(1, currentSheet.max_row + 1):\n",
    "        for column in \"ABCDE\":  # Here you can add or reduce the columns\n",
    "            cell_name = \"{}{}\".format(column, row)\n",
    "            if currentSheet[cell_name].value == \"Asset_ID\":\n",
    "                #print(\"{1} cell is located on {0}\" .format(cell_name, currentSheet[cell_name].value))\n",
    "                print(\"cell position {} has value {}\".format(cell_name, currentSheet[cell_name].value))\n",
    "                return cell_name\n",
    "\n",
    "def get_column_letter(specificCellLetter):\n",
    "    letter = specificCellLetter[0:-1]\n",
    "    print(letter)\n",
    "    return letter\n",
    "\n",
    "def get_all_values_by_cell_letter(letter):\n",
    "    for row in range(1, currentSheet.max_row + 1):\n",
    "        for column in letter:\n",
    "            cell_name = \"{}{}\".format(column, row)\n",
    "            #print(cell_name)\n",
    "            print(\"cell position {} has value {}\".format(cell_name, currentSheet[cell_name].value))\n",
    "\n",
    "\n",
    "\n",
    "for sheet in allSheetNames:\n",
    "    print(\"Current sheet name is {}\" .format(sheet))\n",
    "    currentSheet = xfile[sheet]\n",
    "    specificCellLetter = (find_specific_cell())\n",
    "    letter = get_column_letter(specificCellLetter)\n",
    "\n",
    "    get_all_values_by_cell_letter(letter)\n"
   ]
  },
  {
   "cell_type": "code",
   "execution_count": null,
   "metadata": {},
   "outputs": [],
   "source": [
    "import openpyxl\n",
    "# Read excel file\n",
    "xfile = openpyxl.load_workbook('C://Users/yare01/Documents/SMS/SSAB/Python/06.04.2021_SSAB_Data_Dictionary_AT_PX3_Regulation_Burners1.xlsx')\n",
    "# read sheet names in excel file\n",
    "allSheetNames = xfile.sheetnames\n",
    "def find_specific_cell():\n",
    "    for row in range(1, currentSheet.max_row + 1):\n",
    "        for column in \"ABCDEFGH\":  \n",
    "            cell_name = \"{}{}\".format(column, row)\n",
    "            if currentSheet[cell_name].value == \"L1_name\":\n",
    "                print(\"Cell position {} has value {}\".format(cell_name, currentSheet[cell_name].value))\n",
    "                return cell_name\n",
    "                \n",
    "\n",
    "            \n",
    "for sheet in allSheetNames:\n",
    "    print(\"Current sheet name is {}\" .format(sheet))\n",
    "    currentSheet = xfile[sheet]\n",
    "    specificCellLetter = (find_specific_cell())"
   ]
  },
  {
   "cell_type": "code",
   "execution_count": null,
   "metadata": {},
   "outputs": [],
   "source": [
    "print(cell_name)"
   ]
  },
  {
   "cell_type": "code",
   "execution_count": null,
   "metadata": {},
   "outputs": [],
   "source": [
    "print(specificCellLetter)"
   ]
  },
  {
   "cell_type": "code",
   "execution_count": null,
   "metadata": {},
   "outputs": [],
   "source": [
    "def get_column_letter(specificCellLetter):\n",
    "    letter = specificCellLetter[0:-1]\n",
    "    print(letter)\n",
    "    return letter\n",
    "\n",
    "letter = get_column_letter(specificCellLetter)\n",
    "#print(letter)"
   ]
  },
  {
   "cell_type": "code",
   "execution_count": null,
   "metadata": {
    "scrolled": true
   },
   "outputs": [],
   "source": [
    "def get_all_values_by_cell_letter(letter):\n",
    "    print(currentSheet)\n",
    "    for row in range(1, currentSheet.max_row + 1):\n",
    "        for column in letter:\n",
    "            cell_name = \"{}{}\".format(column, row)\n",
    "            #print(currentSheet)\n",
    "            print(\"cell position {} has value {}\".format(cell_name, currentSheet[cell_name].value))\n",
    "\n",
    "get_all_values_by_cell_letter(letter)"
   ]
  },
  {
   "cell_type": "code",
   "execution_count": null,
   "metadata": {},
   "outputs": [],
   "source": [
    "#pd.read_excel(xls,'Data_Dictionary Copy').head()"
   ]
  },
  {
   "cell_type": "code",
   "execution_count": null,
   "metadata": {},
   "outputs": [],
   "source": [
    "import openpyxl\n",
    "xfile = openpyxl.load_workbook('C://Users/yare01/Documents/SMS/SSAB/Python/test.xlsx')\n",
    "#DataDict = xfile.get_sheet_by_name('Data_Dictionary')\n",
    "for i in DataDict['Asset_ID']:\n",
    "    if 'IA-EAF-' in DataDict['Asset_IDAsset_IDAsset_IDAsset_ID']:\n",
    "        continue\n",
    "    elif 'N/A' in DataDict['Asset_IDAsset_IDAsset_ID']:\n",
    "        continue\n",
    "    elif'unknown' in DataDict['Asset_IDAsset_ID']:\n",
    "        continue\n",
    "    else:\n",
    "        #i == '-'.join(a+b for a,b in zip(i[::5]))\n",
    "        DataDict['Asset_ID'].str.replace('IA-EAF','IA-EAF-',case=False)\n",
    "        xls.save('test1.xlsx')"
   ]
  },
  {
   "cell_type": "code",
   "execution_count": null,
   "metadata": {},
   "outputs": [],
   "source": [
    "# Code to modify the required column and then writing it back to the excel\n",
    "\n",
    "import openpyxl\n",
    "xfile = openpyxl.load_workbook('C://Users/yare01/Documents/SMS/SSAB/Python/test.xlsx')\n",
    "#DataDict = xfile.get_sheet_by_name('Data_Dictionary')\n",
    "currentSheet = xfile['Data_Dictionary']\n",
    "def find_specific_cell(currentSheet):\n",
    "    for row in range(1, currentSheet.max_row + 1):\n",
    "        for column in \"E\":  \n",
    "            cell_name = \"{}{}\".format(column, row)\n",
    "            for i in cell_name:\n",
    "                a = currentSheet[cell_name].value\n",
    "                if a == \"unknown\" or a == \"N/A\" or (a.find('IA-EAF-') != -1):\n",
    "                    continue\n",
    "#                elif a == a.find('IA-EAF-'):\n",
    "#                    continue\n",
    "#                elif (a.find('IA-EAF-') != -1):\n",
    "#                    continue\n",
    "                else:\n",
    "                    #a = currentSheet[cell_name].value\n",
    "                    print(a)\n",
    "                    newstring = 'IA-EAF-' +  a[6:]\n",
    "                    currentSheet[cell_name].value = newstring\n",
    "                    #currentSheet.write(row,columns,newstring)\n",
    "                    xfile.save('C:/Users/yare01/Documents/SMS/SSAB/Python/test.xlsx')\n",
    "                    \n",
    "find_specific_cell(currentSheet)"
   ]
  },
  {
   "cell_type": "code",
   "execution_count": null,
   "metadata": {},
   "outputs": [],
   "source": [
    "print(cell_name)"
   ]
  },
  {
   "cell_type": "code",
   "execution_count": null,
   "metadata": {},
   "outputs": [],
   "source": [
    "print(currentSheet)"
   ]
  },
  {
   "cell_type": "code",
   "execution_count": null,
   "metadata": {},
   "outputs": [],
   "source": [
    "a = 'EAF256'\n",
    "b = 'EAF-' + a[3:]\n",
    "print(b)"
   ]
  },
  {
   "cell_type": "code",
   "execution_count": null,
   "metadata": {},
   "outputs": [],
   "source": [
    "        \n",
    "                    "
   ]
  },
  {
   "cell_type": "code",
   "execution_count": 635,
   "metadata": {},
   "outputs": [
    {
     "name": "stdout",
     "output_type": "stream",
     "text": [
      "cell position F20 has value IA-EAF-602AH0205\n",
      "cell position F21 has value IA-EAF-602AH0205\n",
      "cell position F22 has value IA-EAF-602AH0205\n",
      "cell position F23 has value IA-EAF-602AH0205\n",
      "cell position F24 has value IA-EAF-602AH0205\n",
      "cell position F25 has value IA-EAF-602AH0205\n",
      "cell position F26 has value IA-EAF-602AH0205\n",
      "cell position F27 has value IA-EAF-602AH0205\n",
      "cell position F28 has value IA-EAF-602AH0205\n",
      "cell position F29 has value IA-EAF-602AH0205\n",
      "cell position F30 has value IA-EAF-602AH0205\n"
     ]
    },
    {
     "data": {
      "text/plain": [
       "['F20', 'F21', 'F22', 'F23', 'F24', 'F25', 'F26', 'F27', 'F28', 'F29', 'F30']"
      ]
     },
     "execution_count": 635,
     "metadata": {},
     "output_type": "execute_result"
    }
   ],
   "source": [
    "# Function to find the location of asset Id in Hierarchy_Level sheet\n",
    "import openpyxl\n",
    "xfile = openpyxl.load_workbook('C://Users/yare01/Documents/SMS/SSAB/Python/test.xlsx')\n",
    "L = []\n",
    "def find_assetID_location_HL(assetID):\n",
    "    currentSheet = xfile['Hierarchy_Level']\n",
    "    for row in range(1,currentSheet.max_row + 1):\n",
    "        for column in \"ABCDEFGHI\":\n",
    "            cell_name = \"{}{}\".format(column,row)\n",
    "            #for i in cell_name:\n",
    "            if currentSheet[cell_name].value != assetID:\n",
    "                continue\n",
    "            else:\n",
    "                print(\"cell position {} has value {}\".format(cell_name, currentSheet[cell_name].value))               \n",
    "                L.append(cell_name)\n",
    "    return L\n",
    "                    \n",
    "                                \n",
    "find_assetID_location_HL('IA-EAF-602AH0205')"
   ]
  },
  {
   "cell_type": "code",
   "execution_count": null,
   "metadata": {},
   "outputs": [],
   "source": []
  },
  {
   "cell_type": "code",
   "execution_count": null,
   "metadata": {},
   "outputs": [],
   "source": []
  },
  {
   "cell_type": "code",
   "execution_count": 636,
   "metadata": {},
   "outputs": [
    {
     "data": {
      "text/plain": [
       "['IA-05-EAF',\n",
       " 'IA-EAF-108',\n",
       " 'IA-EAF-10805',\n",
       " 'IA-EAF-602',\n",
       " 'IA-EAF-602AH02',\n",
       " 'IA-EAF-602AH0205',\n",
       " 'IA-EAF-602AH020530',\n",
       " 'IA-EAF-602AH02053010',\n",
       " None]"
      ]
     },
     "execution_count": 636,
     "metadata": {},
     "output_type": "execute_result"
    }
   ],
   "source": [
    "# function to list all the asset id in a row to a list\n",
    "import openpyxl\n",
    "xfile = openpyxl.load_workbook('C://Users/yare01/Documents/SMS/SSAB/Python/test.xlsx')\n",
    "def find_hierarchy_list_HL(location):\n",
    "    L = []\n",
    "    currentSheet = xfile['Hierarchy_Level']\n",
    "    for column in \"ABCDEFGHI\":\n",
    "        a = [location[1:]]\n",
    "        for row in a:\n",
    "            #print(row)\n",
    "            cell_name = \"{}{}\".format(column,row)\n",
    "            a = currentSheet[cell_name].value\n",
    "            L.append(a)\n",
    "    return L\n",
    "                         \n",
    "find_hierarchy_list_HL('F20')"
   ]
  },
  {
   "cell_type": "code",
   "execution_count": 634,
   "metadata": {},
   "outputs": [
    {
     "name": "stdout",
     "output_type": "stream",
     "text": [
      "['IA-05-EAF', 'IA-EAF-108', 'IA-EAF-10805', 'IA-EAF-602', 'IA-EAF-602AH02', 'IA-EAF-602AH0205', 'IA-EAF-602AH020530', 'IA-EAF-602AH02053010']\n"
     ]
    },
    {
     "data": {
      "text/plain": [
       "['├── Cranes & Lifting Equipment, EAF  ',\n",
       " '│   │   ├── Crane 602, 275/90/10 Meltshop Charging  ']"
      ]
     },
     "execution_count": 634,
     "metadata": {},
     "output_type": "execute_result"
    }
   ],
   "source": [
    "# function to read the list of asset id from Hierarchy_Level and then taking the value from Hierarchy\n",
    "import openpyxl\n",
    "import re\n",
    "xfile = openpyxl.load_workbook('C://Users/yare01/Documents/SMS/SSAB/Python/test.xlsx')\n",
    "def find_hierarchy_names_H(L):\n",
    "    col = 'A'\n",
    "    currentSheet = xfile['Hierarchy']\n",
    "    cell = []\n",
    "    #print(L)\n",
    "    # to remove None from list L\n",
    "    L = [i for i in L if i]\n",
    "    print(L)\n",
    "    \n",
    "    for row in range(1, currentSheet.max_row + 1):\n",
    "        for column in \"B\":\n",
    "            cell_name = \"{}{}\".format(column,row)\n",
    "            current_value = currentSheet[cell_name].value\n",
    "            if current_value in L:\n",
    "                new_cell_name =\"{}{}\".format(col,row)\n",
    "                #New_current_value = currentSheet[new_cell_name].value\n",
    "                New_current_value = re.sub(\"[\\(\\[].*?[\\)\\]]\", \"\", currentSheet[new_cell_name].value)\n",
    "                cell.append(New_current_value)\n",
    "            else:\n",
    "                continue\n",
    "    return cell\n",
    "    \n",
    "    \n",
    "    \n",
    "    \n",
    "find_hierarchy_names_H(['IA-05-EAF',\n",
    " 'IA-EAF-108',\n",
    " 'IA-EAF-10805',\n",
    " 'IA-EAF-602',\n",
    " 'IA-EAF-602AH02',\n",
    " 'IA-EAF-602AH0205',\n",
    " 'IA-EAF-602AH020530',\n",
    " 'IA-EAF-602AH02053010',\n",
    " None])\n",
    "    "
   ]
  },
  {
   "cell_type": "code",
   "execution_count": null,
   "metadata": {
    "scrolled": true
   },
   "outputs": [],
   "source": [
    "# function to read the list of asset id from Hierarchy sheet in square bracket and then copy it(content of square bracket) to new column\n",
    "import openpyxl\n",
    "import re\n",
    "xfile = openpyxl.load_workbook('C://Users/yare01/Documents/SMS/SSAB/Python/test.xlsx')\n",
    "def find_assetidinsquarebracket_H(currentSheet):\n",
    "    col = 'C'\n",
    "    #currentSheet = xfile['Hierarchy']\n",
    "    cell = []\n",
    "    #print(L)\n",
    "    # to remove None from list L\n",
    "    #L = [i for i in L if i]\n",
    "    #print(L)\n",
    "    \n",
    "    for row in range(1, currentSheet.max_row + 1):\n",
    "        for column in \"A\":\n",
    "            cell_name = \"{}{}\".format(column,row)\n",
    "            #current_value = currentSheet[cell_name].value\n",
    "            #res = re.findall(r'(?<=\\[)[^][]*(?=])', current_value)\n",
    "            res = re.findall(r'\\[(.*?)\\]', currentSheet[cell_name].value)\n",
    "            #a = str(res)[1:-1]\n",
    "            res = (str(res)[1:-1]).replace(\"'\",\"\")\n",
    "            #res = re.findall(r\"'(.*?)'\", res)\n",
    "            new_cell_name = \"{}{}\".format(col,row)\n",
    "            currentSheet[new_cell_name].value = res\n",
    "            print(currentSheet[new_cell_name].value)\n",
    "            xfile.save('C:/Users/yare01/Documents/SMS/SSAB/Python/test.xlsx')\n",
    "    \n",
    "currentSheet = xfile['Hierarchy']\n",
    "find_assetidinsquarebracket_H(currentSheet)"
   ]
  },
  {
   "cell_type": "code",
   "execution_count": null,
   "metadata": {},
   "outputs": [],
   "source": [
    "# function to read the list of asset id from Hierarchy_Level and then taking the value from Hierarchy\n",
    "import openpyxl\n",
    "import re\n",
    "xfile = openpyxl.load_workbook('C://Users/yare01/Documents/SMS/SSAB/Python/test.xlsx')\n",
    "def find_hierarchy_names_H(L):\n",
    "    col = 'A'\n",
    "    currentSheet = xfile['Hierarchy']\n",
    "    cell = []\n",
    "    #print(L)\n",
    "    # to remove None from list L\n",
    "    L = [i for i in L if i]\n",
    "    print(L)\n",
    "    \n",
    "    for row in range(1, currentSheet.max_row + 1):\n",
    "        for column in \"C\":\n",
    "            cell_name = \"{}{}\".format(column,row)\n",
    "            current_value = currentSheet[cell_name].value\n",
    "            if current_value in L:\n",
    "                new_cell_name =\"{}{}\".format(col,row)\n",
    "                #New_current_value = currentSheet[new_cell_name].value\n",
    "                New_current_value = re.sub(\"[\\(\\[].*?[\\)\\]]\", \"\", currentSheet[new_cell_name].value)\n",
    "                New_current_value = New_current_value.replace('├──','').replace('│','').replace('  ','')\n",
    "                cell.append(New_current_value)\n",
    "                a =' ** '.join(cell)\n",
    "            else:\n",
    "                continue\n",
    "    return a\n",
    "    \n",
    "find_hierarchy_names_H(['IA-05-EAF',\n",
    " 'IA-EAF-108',\n",
    " 'IA-EAF-10805',\n",
    " 'IA-EAF-602',\n",
    " 'IA-EAF-602AH02',\n",
    " 'IA-EAF-602AH0205'])"
   ]
  },
  {
   "cell_type": "code",
   "execution_count": 614,
   "metadata": {},
   "outputs": [
    {
     "name": "stdout",
     "output_type": "stream",
     "text": [
      "['IA-EAF-1044030', 'IA-EAF-1044030', 'IA-EAF-10410301505', 'IA-EAF-10410301505', 'IA-EAF-1122015351015', 'IA-EAF-1122015351015', 'IA-EAF-10410301505', 'IA-EAF-10410301505', 'IA-EAF-10410301505', 'unknown', 'IA-EAF-10410150520', 'IA-EAF-10410150520', 'IA-EAF-10410150520', 'IA-EAF-10410150520', 'IA-EAF-10410150520', 'N/A', 'N/A', 'IA-EAF-10410300520', 'IA-EAF-10410300520', 'unknown']\n",
      "['F776', 'F777', 'F778', 'F779', 'F780']\n"
     ]
    }
   ],
   "source": [
    "import openpyxl\n",
    "xfile = openpyxl.load_workbook('C://Users/yare01/Documents/SMS/SSAB/Python/test.xlsx')\n",
    "A = []\n",
    "def find_assetID_location_HL(assetID):\n",
    "    #print(assetID)\n",
    "    L=[]\n",
    "    currentSheet = xfile['Hierarchy_Level']\n",
    "    for row in range(1,currentSheet.max_row + 1):\n",
    "        for column in \"ABCDEFGHI\":\n",
    "            cell_name = \"{}{}\".format(column,row)\n",
    "            #print(cell_name)\n",
    "            #for currentSheet[cell_name].value in assetID:\n",
    "            if currentSheet[cell_name].value != assetID:\n",
    "                continue\n",
    "            else:\n",
    "                    #print(\"cell position {} has value {}\".format(cell_name, currentSheet[cell_name].value))               \n",
    "                L.append(cell_name)\n",
    "                #print(L)\n",
    "    return L\n",
    "  \n",
    "a=[]\n",
    "def asset_id_list(): \n",
    "    CurrentSheet = xfile['Data_Dictionary']\n",
    "    for row in range(2,CurrentSheet.max_row + 1 ):\n",
    "        for column in \"E\":\n",
    "            cell_name = \"{}{}\".format(column,row)\n",
    "            #print(cell_name)\n",
    "            value = CurrentSheet[cell_name].value\n",
    "            #print(value)\n",
    "            a.append(value)\n",
    "        #print(a)\n",
    "    return a\n",
    "        \n",
    "OutputOfAssetID = asset_id_list()\n",
    "print(OutputOfAssetID)\n",
    "print(find_assetID_location_HL('IA-EAF-10410300520'))\n"
   ]
  },
  {
   "cell_type": "code",
   "execution_count": null,
   "metadata": {},
   "outputs": [],
   "source": []
  },
  {
   "cell_type": "code",
   "execution_count": null,
   "metadata": {},
   "outputs": [],
   "source": [
    "# function to list all the asset id in a row to a list\n",
    "import openpyxl\n",
    "xfile = openpyxl.load_workbook('C://Users/yare01/Documents/SMS/SSAB/Python/test.xlsx')\n",
    "def find_hierarchy_list_HL(location):\n",
    "    B = []\n",
    "    currentSheet = xfile['Hierarchy_Level']\n",
    "    for column in \"ABCDEFGHI\":\n",
    "        a = [location[1:]]\n",
    "        for row in a:\n",
    "            #print(row)\n",
    "            cell_name = \"{}{}\".format(column,row)\n",
    "            a = currentSheet[cell_name].value\n",
    "            B.append(a)\n",
    "    return B\n",
    "                         \n",
    "find_hierarchy_list_HL(OutputOfAssetID)"
   ]
  },
  {
   "cell_type": "code",
   "execution_count": 619,
   "metadata": {},
   "outputs": [
    {
     "name": "stdout",
     "output_type": "stream",
     "text": [
      "['IA-EAF-1044030', 'IA-EAF-1044030', 'IA-EAF-10410301505', 'IA-EAF-10410301505', 'IA-EAF-1122015351015', 'IA-EAF-1122015351015', 'IA-EAF-10410301505', 'IA-EAF-10410301505', 'IA-EAF-10410301505', 'unknown', 'IA-EAF-10410150520', 'IA-EAF-10410150520', 'IA-EAF-10410150520', 'IA-EAF-10410150520', 'IA-EAF-10410150520', 'N/A', 'N/A', 'IA-EAF-10410300520', 'IA-EAF-10410300520', 'unknown']\n"
     ]
    }
   ],
   "source": [
    "print(OutputOfAssetID)"
   ]
  },
  {
   "cell_type": "code",
   "execution_count": 643,
   "metadata": {},
   "outputs": [
    {
     "name": "stdout",
     "output_type": "stream",
     "text": [
      "[['D1056'], ['D1056'], ['F761'], ['F761'], ['G416'], ['G416'], ['F761'], ['F761'], ['F761'], [], ['F842', 'F843', 'F844', 'F845'], ['F842', 'F843', 'F844', 'F845'], ['F842', 'F843', 'F844', 'F845'], ['F842', 'F843', 'F844', 'F845'], ['F842', 'F843', 'F844', 'F845'], [], [], ['F776', 'F777', 'F778', 'F779', 'F780'], ['F776', 'F777', 'F778', 'F779', 'F780'], []]\n"
     ]
    }
   ],
   "source": [
    "a=[]\n",
    "def asset_id_list(): \n",
    "    CurrentSheet = xfile['Data_Dictionary']\n",
    "    for row in range(2,CurrentSheet.max_row + 1 ):\n",
    "        for column in \"E\":\n",
    "            cell_name = \"{}{}\".format(column,row)\n",
    "            #print(cell_name)\n",
    "            value = CurrentSheet[cell_name].value\n",
    "            #print(value)\n",
    "            a.append(value)\n",
    "        #print(a)\n",
    "    return a\n",
    "        \n",
    "OutputOfAssetID = asset_id_list()\n",
    "\n",
    "\n",
    "def find_assetID_location_HL(OutputOfAssetID):\n",
    "    #print(assetID)\n",
    "    L=[]\n",
    "    currentSheet = xfile['Hierarchy_Level']\n",
    "    for row in range(1,currentSheet.max_row + 1):\n",
    "        for column in \"ABCDEFGHI\":\n",
    "            cell_name = \"{}{}\".format(column,row)\n",
    "            #print(cell_name)\n",
    "            #for currentSheet[cell_name].value in assetID:\n",
    "            if currentSheet[cell_name].value != OutputOfAssetID:\n",
    "                continue\n",
    "            else:\n",
    "                #print(\"cell position {} has value {}\".format(cell_name, currentSheet[cell_name].value))               \n",
    "                L.append(cell_name)\n",
    "                #print(L)\n",
    "    return L\n",
    "A=[]\n",
    "for i in OutputOfAssetID:\n",
    "    L = find_assetID_location_HL(i) \n",
    "    A.append(L)\n",
    "\n",
    "OutputAssetID_location_HL = A\n",
    "print(OutputAssetID_location_HL)"
   ]
  },
  {
   "cell_type": "code",
   "execution_count": 663,
   "metadata": {
    "scrolled": true
   },
   "outputs": [
    {
     "name": "stdout",
     "output_type": "stream",
     "text": [
      "[['IA-05-EAF', 'IA-EAF-104', 'IA-EAF-10440', 'IA-EAF-1044030', None, None, None, None, None], ['IA-05-EAF', 'IA-EAF-104', 'IA-EAF-10440', 'IA-EAF-1044030', None, None, None, None, None], ['IA-05-EAF', 'IA-EAF-104', 'IA-EAF-10410', 'IA-EAF-1041030', 'IA-EAF-104103015', 'IA-EAF-10410301505', None, None, None], ['IA-05-EAF', 'IA-EAF-104', 'IA-EAF-10410', 'IA-EAF-1041030', 'IA-EAF-104103015', 'IA-EAF-10410301505', None, None, None], ['IA-05-EAF', 'IA-EAF-112', 'IA-EAF-11220', 'IA-EAF-1122015', 'IA-EAF-112201535', 'IA-EAF-11220153510', 'IA-EAF-1122015351015', None, None], ['IA-05-EAF', 'IA-EAF-112', 'IA-EAF-11220', 'IA-EAF-1122015', 'IA-EAF-112201535', 'IA-EAF-11220153510', 'IA-EAF-1122015351015', None, None], ['IA-05-EAF', 'IA-EAF-104', 'IA-EAF-10410', 'IA-EAF-1041030', 'IA-EAF-104103015', 'IA-EAF-10410301505', None, None, None], ['IA-05-EAF', 'IA-EAF-104', 'IA-EAF-10410', 'IA-EAF-1041030', 'IA-EAF-104103015', 'IA-EAF-10410301505', None, None, None], ['IA-05-EAF', 'IA-EAF-104', 'IA-EAF-10410', 'IA-EAF-1041030', 'IA-EAF-104103015', 'IA-EAF-10410301505', None, None, None], ['IA-05-EAF', 'IA-EAF-104', 'IA-EAF-10410', 'IA-EAF-1041015', 'IA-EAF-104101505', 'IA-EAF-10410150520', 'IA-EAF-1041015052005', 'IA-EAF-104101505200505', None], ['IA-05-EAF', 'IA-EAF-104', 'IA-EAF-10410', 'IA-EAF-1041015', 'IA-EAF-104101505', 'IA-EAF-10410150520', 'IA-EAF-1041015052020', None, None], ['IA-05-EAF', 'IA-EAF-104', 'IA-EAF-10410', 'IA-EAF-1041015', 'IA-EAF-104101505', 'IA-EAF-10410150520', 'IA-EAF-1041015052015', None, None], ['IA-05-EAF', 'IA-EAF-104', 'IA-EAF-10410', 'IA-EAF-1041015', 'IA-EAF-104101505', 'IA-EAF-10410150520', 'IA-EAF-1041015052010', 'IA-EAF-104101505201005', None], ['IA-05-EAF', 'IA-EAF-104', 'IA-EAF-10410', 'IA-EAF-1041015', 'IA-EAF-104101505', 'IA-EAF-10410150520', 'IA-EAF-1041015052005', 'IA-EAF-104101505200505', None], ['IA-05-EAF', 'IA-EAF-104', 'IA-EAF-10410', 'IA-EAF-1041015', 'IA-EAF-104101505', 'IA-EAF-10410150520', 'IA-EAF-1041015052020', None, None], ['IA-05-EAF', 'IA-EAF-104', 'IA-EAF-10410', 'IA-EAF-1041015', 'IA-EAF-104101505', 'IA-EAF-10410150520', 'IA-EAF-1041015052015', None, None], ['IA-05-EAF', 'IA-EAF-104', 'IA-EAF-10410', 'IA-EAF-1041015', 'IA-EAF-104101505', 'IA-EAF-10410150520', 'IA-EAF-1041015052010', 'IA-EAF-104101505201005', None], ['IA-05-EAF', 'IA-EAF-104', 'IA-EAF-10410', 'IA-EAF-1041015', 'IA-EAF-104101505', 'IA-EAF-10410150520', 'IA-EAF-1041015052005', 'IA-EAF-104101505200505', None], ['IA-05-EAF', 'IA-EAF-104', 'IA-EAF-10410', 'IA-EAF-1041015', 'IA-EAF-104101505', 'IA-EAF-10410150520', 'IA-EAF-1041015052020', None, None], ['IA-05-EAF', 'IA-EAF-104', 'IA-EAF-10410', 'IA-EAF-1041015', 'IA-EAF-104101505', 'IA-EAF-10410150520', 'IA-EAF-1041015052015', None, None], ['IA-05-EAF', 'IA-EAF-104', 'IA-EAF-10410', 'IA-EAF-1041015', 'IA-EAF-104101505', 'IA-EAF-10410150520', 'IA-EAF-1041015052010', 'IA-EAF-104101505201005', None], ['IA-05-EAF', 'IA-EAF-104', 'IA-EAF-10410', 'IA-EAF-1041015', 'IA-EAF-104101505', 'IA-EAF-10410150520', 'IA-EAF-1041015052005', 'IA-EAF-104101505200505', None], ['IA-05-EAF', 'IA-EAF-104', 'IA-EAF-10410', 'IA-EAF-1041015', 'IA-EAF-104101505', 'IA-EAF-10410150520', 'IA-EAF-1041015052020', None, None], ['IA-05-EAF', 'IA-EAF-104', 'IA-EAF-10410', 'IA-EAF-1041015', 'IA-EAF-104101505', 'IA-EAF-10410150520', 'IA-EAF-1041015052015', None, None], ['IA-05-EAF', 'IA-EAF-104', 'IA-EAF-10410', 'IA-EAF-1041015', 'IA-EAF-104101505', 'IA-EAF-10410150520', 'IA-EAF-1041015052010', 'IA-EAF-104101505201005', None], ['IA-05-EAF', 'IA-EAF-104', 'IA-EAF-10410', 'IA-EAF-1041015', 'IA-EAF-104101505', 'IA-EAF-10410150520', 'IA-EAF-1041015052005', 'IA-EAF-104101505200505', None], ['IA-05-EAF', 'IA-EAF-104', 'IA-EAF-10410', 'IA-EAF-1041015', 'IA-EAF-104101505', 'IA-EAF-10410150520', 'IA-EAF-1041015052020', None, None], ['IA-05-EAF', 'IA-EAF-104', 'IA-EAF-10410', 'IA-EAF-1041015', 'IA-EAF-104101505', 'IA-EAF-10410150520', 'IA-EAF-1041015052015', None, None], ['IA-05-EAF', 'IA-EAF-104', 'IA-EAF-10410', 'IA-EAF-1041015', 'IA-EAF-104101505', 'IA-EAF-10410150520', 'IA-EAF-1041015052010', 'IA-EAF-104101505201005', None], ['IA-05-EAF', 'IA-EAF-104', 'IA-EAF-10410', 'IA-EAF-1041030', 'IA-EAF-104103005', 'IA-EAF-10410300520', 'IA-EAF-1041030052005', None, None], ['IA-05-EAF', 'IA-EAF-104', 'IA-EAF-10410', 'IA-EAF-1041030', 'IA-EAF-104103005', 'IA-EAF-10410300520', 'IA-EAF-1041030052010', None, None], ['IA-05-EAF', 'IA-EAF-104', 'IA-EAF-10410', 'IA-EAF-1041030', 'IA-EAF-104103005', 'IA-EAF-10410300520', 'IA-EAF-1041030052020', None, None], ['IA-05-EAF', 'IA-EAF-104', 'IA-EAF-10410', 'IA-EAF-1041030', 'IA-EAF-104103005', 'IA-EAF-10410300520', 'IA-EAF-1041030052025', None, None], ['IA-05-EAF', 'IA-EAF-104', 'IA-EAF-10410', 'IA-EAF-1041030', 'IA-EAF-104103005', 'IA-EAF-10410300520', 'IA-EAF-1041030052030', None, None], ['IA-05-EAF', 'IA-EAF-104', 'IA-EAF-10410', 'IA-EAF-1041030', 'IA-EAF-104103005', 'IA-EAF-10410300520', 'IA-EAF-1041030052005', None, None], ['IA-05-EAF', 'IA-EAF-104', 'IA-EAF-10410', 'IA-EAF-1041030', 'IA-EAF-104103005', 'IA-EAF-10410300520', 'IA-EAF-1041030052010', None, None], ['IA-05-EAF', 'IA-EAF-104', 'IA-EAF-10410', 'IA-EAF-1041030', 'IA-EAF-104103005', 'IA-EAF-10410300520', 'IA-EAF-1041030052020', None, None], ['IA-05-EAF', 'IA-EAF-104', 'IA-EAF-10410', 'IA-EAF-1041030', 'IA-EAF-104103005', 'IA-EAF-10410300520', 'IA-EAF-1041030052025', None, None], ['IA-05-EAF', 'IA-EAF-104', 'IA-EAF-10410', 'IA-EAF-1041030', 'IA-EAF-104103005', 'IA-EAF-10410300520', 'IA-EAF-1041030052030', None, None]]\n"
     ]
    }
   ],
   "source": [
    "# function to list all the asset id in a row to a list\n",
    "import openpyxl\n",
    "xfile = openpyxl.load_workbook('C://Users/yare01/Documents/SMS/SSAB/Python/test.xlsx')\n",
    "def find_hierarchy_list_HL(location):\n",
    "    L = []\n",
    "    currentSheet = xfile['Hierarchy_Level']\n",
    "    for column in \"ABCDEFGHI\":\n",
    "        a = [location[1:]]\n",
    "        for row in a:\n",
    "            #print(row)\n",
    "            cell_name = \"{}{}\".format(column,row)\n",
    "            a = currentSheet[cell_name].value\n",
    "            L.append(a)\n",
    "    return L\n",
    "\n",
    "B=[]\n",
    "for j in OutputAssetID_location_HL:\n",
    "    for k in j:\n",
    "        L = find_hierarchy_list_HL(k) \n",
    "        B.append(L)\n",
    "print(B)\n",
    "Outputofhierarchyrow = B\n"
   ]
  },
  {
   "cell_type": "code",
   "execution_count": null,
   "metadata": {},
   "outputs": [],
   "source": []
  },
  {
   "cell_type": "code",
   "execution_count": 668,
   "metadata": {},
   "outputs": [
    {
     "name": "stdout",
     "output_type": "stream",
     "text": [
      "['EAF **  Utility Systems, EAF **  Water Systems, EAF **  A Furnace Water E-Stop, Water System, EAF', 'EAF **  Utility Systems, EAF **  Water Systems, EAF **  A Furnace Water E-Stop, Water System, EAF', 'EAF **  Utility Systems, EAF **  Electrical Systems, EAF ** Automation, EAF **  Control Stations, Panels, EAF ** EAF Pulpit Main Control Desk, Control Stations/Panels, EAF', 'EAF **  Utility Systems, EAF **  Electrical Systems, EAF ** Automation, EAF **  Control Stations, Panels, EAF ** EAF Pulpit Main Control Desk, Control Stations/Panels, EAF', 'EAF **  Department Equipment, EAF ** Furnace\\'s/Mast Arm, EAF **  A Furnace, EAF ** Oxygen Lance, \"A\" Furnace, EAF **  Oxygen Lance Assembly, \"A\" Furnace, EAF **  General Automation Controls & Instrumentation, Oxygen Lance Assembly, \"A\" Furnace, EAF', 'EAF **  Department Equipment, EAF ** Furnace\\'s/Mast Arm, EAF **  A Furnace, EAF ** Oxygen Lance, \"A\" Furnace, EAF **  Oxygen Lance Assembly, \"A\" Furnace, EAF **  General Automation Controls & Instrumentation, Oxygen Lance Assembly, \"A\" Furnace, EAF', 'EAF **  Utility Systems, EAF **  Electrical Systems, EAF ** Automation, EAF **  Control Stations, Panels, EAF ** EAF Pulpit Main Control Desk, Control Stations/Panels, EAF', 'EAF **  Utility Systems, EAF **  Electrical Systems, EAF ** Automation, EAF **  Control Stations, Panels, EAF ** EAF Pulpit Main Control Desk, Control Stations/Panels, EAF', 'EAF **  Utility Systems, EAF **  Electrical Systems, EAF ** Automation, EAF **  Control Stations, Panels, EAF ** EAF Pulpit Main Control Desk, Control Stations/Panels, EAF', 'EAF **  Utility Systems, EAF **  Electrical Systems, EAF ** Individual Electrical Rooms, EAF **  MCC Room, EAF ** Ansaldo Current Regulator Control, MCC Room, EAF **  Control Cabinet, Ansaldo Current Regulator Control, MCC Room, EAF **   Lem Units, Control Cabinet, Ansaldo Current Regulator Control, MCC Room, EAF', 'EAF **  Utility Systems, EAF **  Electrical Systems, EAF ** Individual Electrical Rooms, EAF **  MCC Room, EAF ** Ansaldo Current Regulator Control, MCC Room, EAF **  Incoming Line Cabinet, Ansaldo Current Regulator Control, MCC Room, EAF', 'EAF **  Utility Systems, EAF **  Electrical Systems, EAF ** Individual Electrical Rooms, EAF **  MCC Room, EAF ** Ansaldo Current Regulator Control, MCC Room, EAF **  P Cabinet, Ansaldo Current Regulator Control, MCC Room, EAF', 'EAF **  Utility Systems, EAF **  Electrical Systems, EAF ** Individual Electrical Rooms, EAF **  MCC Room, EAF ** Ansaldo Current Regulator Control, MCC Room, EAF **  Transducer Interface Cabinet, Ansaldo Current Regulator Control, MCC Room, EAF **  Dtam Unit', 'EAF **  Utility Systems, EAF **  Electrical Systems, EAF ** Individual Electrical Rooms, EAF **  MCC Room, EAF ** Ansaldo Current Regulator Control, MCC Room, EAF **  Control Cabinet, Ansaldo Current Regulator Control, MCC Room, EAF **   Lem Units, Control Cabinet, Ansaldo Current Regulator Control, MCC Room, EAF', 'EAF **  Utility Systems, EAF **  Electrical Systems, EAF ** Individual Electrical Rooms, EAF **  MCC Room, EAF ** Ansaldo Current Regulator Control, MCC Room, EAF **  Incoming Line Cabinet, Ansaldo Current Regulator Control, MCC Room, EAF', 'EAF **  Utility Systems, EAF **  Electrical Systems, EAF ** Individual Electrical Rooms, EAF **  MCC Room, EAF ** Ansaldo Current Regulator Control, MCC Room, EAF **  P Cabinet, Ansaldo Current Regulator Control, MCC Room, EAF', 'EAF **  Utility Systems, EAF **  Electrical Systems, EAF ** Individual Electrical Rooms, EAF **  MCC Room, EAF ** Ansaldo Current Regulator Control, MCC Room, EAF **  Transducer Interface Cabinet, Ansaldo Current Regulator Control, MCC Room, EAF **  Dtam Unit', 'EAF **  Utility Systems, EAF **  Electrical Systems, EAF ** Individual Electrical Rooms, EAF **  MCC Room, EAF ** Ansaldo Current Regulator Control, MCC Room, EAF **  Control Cabinet, Ansaldo Current Regulator Control, MCC Room, EAF **   Lem Units, Control Cabinet, Ansaldo Current Regulator Control, MCC Room, EAF', 'EAF **  Utility Systems, EAF **  Electrical Systems, EAF ** Individual Electrical Rooms, EAF **  MCC Room, EAF ** Ansaldo Current Regulator Control, MCC Room, EAF **  Incoming Line Cabinet, Ansaldo Current Regulator Control, MCC Room, EAF', 'EAF **  Utility Systems, EAF **  Electrical Systems, EAF ** Individual Electrical Rooms, EAF **  MCC Room, EAF ** Ansaldo Current Regulator Control, MCC Room, EAF **  P Cabinet, Ansaldo Current Regulator Control, MCC Room, EAF', 'EAF **  Utility Systems, EAF **  Electrical Systems, EAF ** Individual Electrical Rooms, EAF **  MCC Room, EAF ** Ansaldo Current Regulator Control, MCC Room, EAF **  Transducer Interface Cabinet, Ansaldo Current Regulator Control, MCC Room, EAF **  Dtam Unit', 'EAF **  Utility Systems, EAF **  Electrical Systems, EAF ** Individual Electrical Rooms, EAF **  MCC Room, EAF ** Ansaldo Current Regulator Control, MCC Room, EAF **  Control Cabinet, Ansaldo Current Regulator Control, MCC Room, EAF **   Lem Units, Control Cabinet, Ansaldo Current Regulator Control, MCC Room, EAF', 'EAF **  Utility Systems, EAF **  Electrical Systems, EAF ** Individual Electrical Rooms, EAF **  MCC Room, EAF ** Ansaldo Current Regulator Control, MCC Room, EAF **  Incoming Line Cabinet, Ansaldo Current Regulator Control, MCC Room, EAF', 'EAF **  Utility Systems, EAF **  Electrical Systems, EAF ** Individual Electrical Rooms, EAF **  MCC Room, EAF ** Ansaldo Current Regulator Control, MCC Room, EAF **  P Cabinet, Ansaldo Current Regulator Control, MCC Room, EAF', 'EAF **  Utility Systems, EAF **  Electrical Systems, EAF ** Individual Electrical Rooms, EAF **  MCC Room, EAF ** Ansaldo Current Regulator Control, MCC Room, EAF **  Transducer Interface Cabinet, Ansaldo Current Regulator Control, MCC Room, EAF **  Dtam Unit', 'EAF **  Utility Systems, EAF **  Electrical Systems, EAF ** Individual Electrical Rooms, EAF **  MCC Room, EAF ** Ansaldo Current Regulator Control, MCC Room, EAF **  Control Cabinet, Ansaldo Current Regulator Control, MCC Room, EAF **   Lem Units, Control Cabinet, Ansaldo Current Regulator Control, MCC Room, EAF', 'EAF **  Utility Systems, EAF **  Electrical Systems, EAF ** Individual Electrical Rooms, EAF **  MCC Room, EAF ** Ansaldo Current Regulator Control, MCC Room, EAF **  Incoming Line Cabinet, Ansaldo Current Regulator Control, MCC Room, EAF', 'EAF **  Utility Systems, EAF **  Electrical Systems, EAF ** Individual Electrical Rooms, EAF **  MCC Room, EAF ** Ansaldo Current Regulator Control, MCC Room, EAF **  P Cabinet, Ansaldo Current Regulator Control, MCC Room, EAF', 'EAF **  Utility Systems, EAF **  Electrical Systems, EAF ** Individual Electrical Rooms, EAF **  MCC Room, EAF ** Ansaldo Current Regulator Control, MCC Room, EAF **  Transducer Interface Cabinet, Ansaldo Current Regulator Control, MCC Room, EAF **  Dtam Unit', 'EAF **  Utility Systems, EAF **  Electrical Systems, EAF ** Automation, EAF **  PLC/AMS, Automation, EAF **  FD_BH2, Baghouse #2 ** AR01, PLC C4, Baghouse #1', 'EAF **  Utility Systems, EAF **  Electrical Systems, EAF ** Automation, EAF **  PLC/AMS, Automation, EAF **  FD_BH2, Baghouse #2 ** AR02, PLC C4, Baghouse #1', 'EAF **  Utility Systems, EAF **  Electrical Systems, EAF ** Automation, EAF **  PLC/AMS, Automation, EAF **  FD_BH2, Baghouse #2 ** AR03, PLC C4, Baghouse #1', 'EAF **  Utility Systems, EAF **  Electrical Systems, EAF ** Automation, EAF **  PLC/AMS, Automation, EAF **  FD_BH2, Baghouse #2 ** AR04, PLC C4, Baghouse #1', 'EAF **  Utility Systems, EAF **  Electrical Systems, EAF ** Automation, EAF **  PLC/AMS, Automation, EAF **  FD_BH2, Baghouse #2 **   AR05, PLC C4, Baghouse #1', 'EAF **  Utility Systems, EAF **  Electrical Systems, EAF ** Automation, EAF **  PLC/AMS, Automation, EAF **  FD_BH2, Baghouse #2 ** AR01, PLC C4, Baghouse #1', 'EAF **  Utility Systems, EAF **  Electrical Systems, EAF ** Automation, EAF **  PLC/AMS, Automation, EAF **  FD_BH2, Baghouse #2 ** AR02, PLC C4, Baghouse #1', 'EAF **  Utility Systems, EAF **  Electrical Systems, EAF ** Automation, EAF **  PLC/AMS, Automation, EAF **  FD_BH2, Baghouse #2 ** AR03, PLC C4, Baghouse #1', 'EAF **  Utility Systems, EAF **  Electrical Systems, EAF ** Automation, EAF **  PLC/AMS, Automation, EAF **  FD_BH2, Baghouse #2 ** AR04, PLC C4, Baghouse #1', 'EAF **  Utility Systems, EAF **  Electrical Systems, EAF ** Automation, EAF **  PLC/AMS, Automation, EAF **  FD_BH2, Baghouse #2 **   AR05, PLC C4, Baghouse #1']\n"
     ]
    }
   ],
   "source": [
    "# function to read the list of asset id from Hierarchy_Level and then taking the value from Hierarchy\n",
    "import openpyxl\n",
    "import re\n",
    "xfile = openpyxl.load_workbook('C://Users/yare01/Documents/SMS/SSAB/Python/test.xlsx')\n",
    "def find_hierarchy_names_H(L):\n",
    "    col = 'A'\n",
    "    currentSheet = xfile['Hierarchy']\n",
    "    cell = []\n",
    "    #print(L)\n",
    "    # to remove None from list L\n",
    "    L = [i for i in L if i]\n",
    "    #print(L)\n",
    "    \n",
    "    for row in range(1, currentSheet.max_row + 1):\n",
    "        for column in \"C\":\n",
    "            cell_name = \"{}{}\".format(column,row)\n",
    "            current_value = currentSheet[cell_name].value\n",
    "            if current_value in L:\n",
    "                new_cell_name =\"{}{}\".format(col,row)\n",
    "                #New_current_value = currentSheet[new_cell_name].value\n",
    "                New_current_value = re.sub(\"[\\(\\[].*?[\\)\\]]\", \"\", currentSheet[new_cell_name].value)\n",
    "                New_current_value = New_current_value.replace('├──','').replace('│','').replace('  ','').replace('└──','')\n",
    "                cell.append(New_current_value)\n",
    "                x =' ** '.join(cell)\n",
    "                #currentSheet[new_cell_name].value = x\n",
    "                print(currentSheet[new_cell_name].value)\n",
    "                #xfile.save('C:/Users/yare01/Documents/SMS/SSAB/Python/test.xlsx')\n",
    "            else:\n",
    "                continue\n",
    "    return x\n",
    "\n",
    "\n",
    "C=[]\n",
    "for j in Outputofhierarchyrow:\n",
    "    L = find_hierarchy_names_H(j)\n",
    "    C.append(L)\n",
    "print(C)\n"
   ]
  },
  {
   "cell_type": "code",
   "execution_count": null,
   "metadata": {},
   "outputs": [],
   "source": []
  }
 ],
 "metadata": {
  "kernelspec": {
   "display_name": "Python 3",
   "language": "python",
   "name": "python3"
  },
  "language_info": {
   "codemirror_mode": {
    "name": "ipython",
    "version": 3
   },
   "file_extension": ".py",
   "mimetype": "text/x-python",
   "name": "python",
   "nbconvert_exporter": "python",
   "pygments_lexer": "ipython3",
   "version": "3.7.9"
  }
 },
 "nbformat": 4,
 "nbformat_minor": 4
}
